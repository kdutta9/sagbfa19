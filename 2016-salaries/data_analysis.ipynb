{
 "cells": [
  {
   "cell_type": "code",
   "execution_count": 194,
   "metadata": {},
   "outputs": [],
   "source": [
    "import pandas\n",
    "import numpy as np\n",
    "from matplotlib import pyplot as plt\n",
    "import seaborn as sns\n",
    "from statistics import mean"
   ]
  },
  {
   "cell_type": "code",
   "execution_count": 205,
   "metadata": {
    "scrolled": true
   },
   "outputs": [
    {
     "data": {
      "text/html": [
       "<div>\n",
       "<style scoped>\n",
       "    .dataframe tbody tr th:only-of-type {\n",
       "        vertical-align: middle;\n",
       "    }\n",
       "\n",
       "    .dataframe tbody tr th {\n",
       "        vertical-align: top;\n",
       "    }\n",
       "\n",
       "    .dataframe thead th {\n",
       "        text-align: right;\n",
       "    }\n",
       "</style>\n",
       "<table border=\"1\" class=\"dataframe\">\n",
       "  <thead>\n",
       "    <tr style=\"text-align: right;\">\n",
       "      <th></th>\n",
       "      <th>Team</th>\n",
       "      <th>Player</th>\n",
       "      <th>Yearly Salary</th>\n",
       "    </tr>\n",
       "  </thead>\n",
       "  <tbody>\n",
       "    <tr>\n",
       "      <th>0</th>\n",
       "      <td>Cleveland Cavaliers</td>\n",
       "      <td>LeBron James</td>\n",
       "      <td>30.96</td>\n",
       "    </tr>\n",
       "    <tr>\n",
       "      <th>1</th>\n",
       "      <td>Memphis Grizzlies</td>\n",
       "      <td>Mike Conley</td>\n",
       "      <td>30.52</td>\n",
       "    </tr>\n",
       "    <tr>\n",
       "      <th>2</th>\n",
       "      <td>Boston Celtics</td>\n",
       "      <td>Al Horford</td>\n",
       "      <td>28.33</td>\n",
       "    </tr>\n",
       "    <tr>\n",
       "      <th>3</th>\n",
       "      <td>Toronto Raptors</td>\n",
       "      <td>DeMar DeRozan</td>\n",
       "      <td>27.50</td>\n",
       "    </tr>\n",
       "    <tr>\n",
       "      <th>4</th>\n",
       "      <td>Golden State Warriors</td>\n",
       "      <td>Kevin Durant</td>\n",
       "      <td>27.14</td>\n",
       "    </tr>\n",
       "    <tr>\n",
       "      <th>5</th>\n",
       "      <td>Washington Wizards</td>\n",
       "      <td>Bradley Beal</td>\n",
       "      <td>25.43</td>\n",
       "    </tr>\n",
       "    <tr>\n",
       "      <th>6</th>\n",
       "      <td>Detroit Pistons</td>\n",
       "      <td>Andre Drummond</td>\n",
       "      <td>25.43</td>\n",
       "    </tr>\n",
       "    <tr>\n",
       "      <th>7</th>\n",
       "      <td>Dallas Mavericks</td>\n",
       "      <td>Dirk Nowitzki</td>\n",
       "      <td>25.00</td>\n",
       "    </tr>\n",
       "    <tr>\n",
       "      <th>8</th>\n",
       "      <td>Miami Heat</td>\n",
       "      <td>Hassan Whiteside</td>\n",
       "      <td>24.60</td>\n",
       "    </tr>\n",
       "    <tr>\n",
       "      <th>9</th>\n",
       "      <td>Charlotte Hornets</td>\n",
       "      <td>Nicolas Batum</td>\n",
       "      <td>24.00</td>\n",
       "    </tr>\n",
       "  </tbody>\n",
       "</table>\n",
       "</div>"
      ],
      "text/plain": [
       "                    Team            Player  Yearly Salary\n",
       "0    Cleveland Cavaliers      LeBron James          30.96\n",
       "1      Memphis Grizzlies       Mike Conley          30.52\n",
       "2         Boston Celtics        Al Horford          28.33\n",
       "3        Toronto Raptors     DeMar DeRozan          27.50\n",
       "4  Golden State Warriors      Kevin Durant          27.14\n",
       "5     Washington Wizards      Bradley Beal          25.43\n",
       "6        Detroit Pistons    Andre Drummond          25.43\n",
       "7       Dallas Mavericks     Dirk Nowitzki          25.00\n",
       "8             Miami Heat  Hassan Whiteside          24.60\n",
       "9      Charlotte Hornets     Nicolas Batum          24.00"
      ]
     },
     "execution_count": 205,
     "metadata": {},
     "output_type": "execute_result"
    }
   ],
   "source": [
    "salary_data = pandas.read_csv('2016salary.csv')\n",
    "salary_data"
   ]
  },
  {
   "cell_type": "code",
   "execution_count": 181,
   "metadata": {},
   "outputs": [],
   "source": [
    "win_pct = [round(100*(x/82),2) for x in [51, 43, 53, 51, 67, 49, 37, 33, 41, 36]]"
   ]
  },
  {
   "cell_type": "code",
   "execution_count": 182,
   "metadata": {
    "scrolled": true
   },
   "outputs": [
    {
     "data": {
      "text/html": [
       "<div>\n",
       "<style scoped>\n",
       "    .dataframe tbody tr th:only-of-type {\n",
       "        vertical-align: middle;\n",
       "    }\n",
       "\n",
       "    .dataframe tbody tr th {\n",
       "        vertical-align: top;\n",
       "    }\n",
       "\n",
       "    .dataframe thead th {\n",
       "        text-align: right;\n",
       "    }\n",
       "</style>\n",
       "<table border=\"1\" class=\"dataframe\">\n",
       "  <thead>\n",
       "    <tr style=\"text-align: right;\">\n",
       "      <th></th>\n",
       "      <th>Team</th>\n",
       "      <th>Player</th>\n",
       "      <th>Yearly Salary</th>\n",
       "      <th>WIN %</th>\n",
       "    </tr>\n",
       "  </thead>\n",
       "  <tbody>\n",
       "    <tr>\n",
       "      <th>0</th>\n",
       "      <td>Cleveland Cavaliers</td>\n",
       "      <td>LeBron James</td>\n",
       "      <td>30.96</td>\n",
       "      <td>62.20</td>\n",
       "    </tr>\n",
       "    <tr>\n",
       "      <th>1</th>\n",
       "      <td>Memphis Grizzlies</td>\n",
       "      <td>Mike Conley</td>\n",
       "      <td>30.52</td>\n",
       "      <td>52.44</td>\n",
       "    </tr>\n",
       "    <tr>\n",
       "      <th>2</th>\n",
       "      <td>Boston Celtics</td>\n",
       "      <td>Al Horford</td>\n",
       "      <td>28.33</td>\n",
       "      <td>64.63</td>\n",
       "    </tr>\n",
       "    <tr>\n",
       "      <th>3</th>\n",
       "      <td>Toronto Raptors</td>\n",
       "      <td>DeMar DeRozan</td>\n",
       "      <td>27.50</td>\n",
       "      <td>62.20</td>\n",
       "    </tr>\n",
       "    <tr>\n",
       "      <th>4</th>\n",
       "      <td>Golden State Warriors</td>\n",
       "      <td>Kevin Durant</td>\n",
       "      <td>27.14</td>\n",
       "      <td>81.71</td>\n",
       "    </tr>\n",
       "    <tr>\n",
       "      <th>5</th>\n",
       "      <td>Washington Wizards</td>\n",
       "      <td>Bradley Beal</td>\n",
       "      <td>25.43</td>\n",
       "      <td>59.76</td>\n",
       "    </tr>\n",
       "    <tr>\n",
       "      <th>6</th>\n",
       "      <td>Detroit Pistons</td>\n",
       "      <td>Andre Drummond</td>\n",
       "      <td>25.43</td>\n",
       "      <td>45.12</td>\n",
       "    </tr>\n",
       "    <tr>\n",
       "      <th>7</th>\n",
       "      <td>Dallas Mavericks</td>\n",
       "      <td>Dirk Nowitzki</td>\n",
       "      <td>25.00</td>\n",
       "      <td>40.24</td>\n",
       "    </tr>\n",
       "    <tr>\n",
       "      <th>8</th>\n",
       "      <td>Miami Heat</td>\n",
       "      <td>Hassan Whiteside</td>\n",
       "      <td>24.60</td>\n",
       "      <td>50.00</td>\n",
       "    </tr>\n",
       "    <tr>\n",
       "      <th>9</th>\n",
       "      <td>Charlotte Hornets</td>\n",
       "      <td>Nicolas Batum</td>\n",
       "      <td>24.00</td>\n",
       "      <td>43.90</td>\n",
       "    </tr>\n",
       "  </tbody>\n",
       "</table>\n",
       "</div>"
      ],
      "text/plain": [
       "                    Team            Player  Yearly Salary  WIN %\n",
       "0    Cleveland Cavaliers      LeBron James          30.96  62.20\n",
       "1      Memphis Grizzlies       Mike Conley          30.52  52.44\n",
       "2         Boston Celtics        Al Horford          28.33  64.63\n",
       "3        Toronto Raptors     DeMar DeRozan          27.50  62.20\n",
       "4  Golden State Warriors      Kevin Durant          27.14  81.71\n",
       "5     Washington Wizards      Bradley Beal          25.43  59.76\n",
       "6        Detroit Pistons    Andre Drummond          25.43  45.12\n",
       "7       Dallas Mavericks     Dirk Nowitzki          25.00  40.24\n",
       "8             Miami Heat  Hassan Whiteside          24.60  50.00\n",
       "9      Charlotte Hornets     Nicolas Batum          24.00  43.90"
      ]
     },
     "execution_count": 182,
     "metadata": {},
     "output_type": "execute_result"
    }
   ],
   "source": [
    "salary_data['WIN %'] = win_pct\n",
    "salary_data"
   ]
  },
  {
   "cell_type": "code",
   "execution_count": 183,
   "metadata": {},
   "outputs": [
    {
     "data": {
      "text/plain": [
       "<matplotlib.axes._subplots.AxesSubplot at 0x7f88783e8cf8>"
      ]
     },
     "execution_count": 183,
     "metadata": {},
     "output_type": "execute_result"
    },
    {
     "data": {
      "image/png": "[encoded data removed]",
      "text/plain": [
       "<Figure size 432x288 with 1 Axes>"
      ]
     },
     "metadata": {
      "needs_background": "light"
     },
     "output_type": "display_data"
    }
   ],
   "source": [
    "salary_data.plot.scatter(2, 3)"
   ]
  },
  {
   "cell_type": "code",
   "execution_count": 184,
   "metadata": {
    "scrolled": true
   },
   "outputs": [
    {
     "data": {
      "text/plain": [
       "Yearly Salary    26.891\n",
       "WIN %            56.220\n",
       "dtype: float64"
      ]
     },
     "execution_count": 184,
     "metadata": {},
     "output_type": "execute_result"
    }
   ],
   "source": [
    "salary_data.mean(axis=0)"
   ]
  },
  {
   "cell_type": "code",
   "execution_count": 185,
   "metadata": {},
   "outputs": [
    {
     "data": {
      "text/plain": [
       "0.600609756097561"
      ]
     },
     "execution_count": 185,
     "metadata": {},
     "output_type": "execute_result"
    }
   ],
   "source": [
    "# determine average win % for playoff teams in 2016-17 \n",
    "# (source: https://www.basketball-reference.com/leagues/NBA_2017_standings.html)\n",
    "playoff_bound = [53, 51, 51, 49, 43, 42, 42, 41, 67, 61, 55, 51, 51, 47, 43, 41]\n",
    "playoff_bound_winpct = np.mean([x/82 for x in playoff_bound])\n",
    "playoff_bound_winpct"
   ]
  },
  {
   "cell_type": "code",
   "execution_count": 186,
   "metadata": {},
   "outputs": [],
   "source": [
    "original_teams = [round(100*(x/82),2) for x in [58, 49, 41, 39, 39, 32, 19, 57, 33, 33]]\n",
    "remaining_teams = [round(100*(x/82),2) for x in [60, 51, 48, 42, 42, 29, 22, 17, 54, 53, 53, 50, 49, 48, 48, 39, 37, 36, 33, 19]]"
   ]
  },
  {
   "cell_type": "code",
   "execution_count": 187,
   "metadata": {},
   "outputs": [
    {
     "name": "stdout",
     "output_type": "stream",
     "text": [
      "48.77900000000001 50.61\n"
     ]
    }
   ],
   "source": [
    "print(np.mean(original_teams), np.mean(remaining_teams))"
   ]
  },
  {
   "cell_type": "code",
   "execution_count": 188,
   "metadata": {},
   "outputs": [
    {
     "data": {
      "text/html": [
       "<div>\n",
       "<style scoped>\n",
       "    .dataframe tbody tr th:only-of-type {\n",
       "        vertical-align: middle;\n",
       "    }\n",
       "\n",
       "    .dataframe tbody tr th {\n",
       "        vertical-align: top;\n",
       "    }\n",
       "\n",
       "    .dataframe thead th {\n",
       "        text-align: right;\n",
       "    }\n",
       "</style>\n",
       "<table border=\"1\" class=\"dataframe\">\n",
       "  <thead>\n",
       "    <tr style=\"text-align: right;\">\n",
       "      <th></th>\n",
       "      <th>Player</th>\n",
       "      <th>Projected Yearly Salary</th>\n",
       "      <th>Actual Yearly Salary</th>\n",
       "    </tr>\n",
       "  </thead>\n",
       "  <tbody>\n",
       "    <tr>\n",
       "      <th>0</th>\n",
       "      <td>LeBron James</td>\n",
       "      <td>52.10</td>\n",
       "      <td>30.96</td>\n",
       "    </tr>\n",
       "    <tr>\n",
       "      <th>1</th>\n",
       "      <td>Mike Conley</td>\n",
       "      <td>13.96</td>\n",
       "      <td>30.52</td>\n",
       "    </tr>\n",
       "    <tr>\n",
       "      <th>2</th>\n",
       "      <td>Al Horford</td>\n",
       "      <td>20.94</td>\n",
       "      <td>28.33</td>\n",
       "    </tr>\n",
       "    <tr>\n",
       "      <th>3</th>\n",
       "      <td>DeMar DeRozan</td>\n",
       "      <td>13.14</td>\n",
       "      <td>27.50</td>\n",
       "    </tr>\n",
       "    <tr>\n",
       "      <th>4</th>\n",
       "      <td>Kevin Durant</td>\n",
       "      <td>45.42</td>\n",
       "      <td>27.14</td>\n",
       "    </tr>\n",
       "    <tr>\n",
       "      <th>5</th>\n",
       "      <td>Bradley Beal</td>\n",
       "      <td>17.94</td>\n",
       "      <td>25.43</td>\n",
       "    </tr>\n",
       "    <tr>\n",
       "      <th>6</th>\n",
       "      <td>Andre Drummond</td>\n",
       "      <td>21.88</td>\n",
       "      <td>25.43</td>\n",
       "    </tr>\n",
       "    <tr>\n",
       "      <th>7</th>\n",
       "      <td>Dirk Nowitzki</td>\n",
       "      <td>1.82</td>\n",
       "      <td>25.00</td>\n",
       "    </tr>\n",
       "    <tr>\n",
       "      <th>8</th>\n",
       "      <td>Hassan Whiteside</td>\n",
       "      <td>16.12</td>\n",
       "      <td>24.60</td>\n",
       "    </tr>\n",
       "    <tr>\n",
       "      <th>9</th>\n",
       "      <td>Nicolas Batum</td>\n",
       "      <td>22.00</td>\n",
       "      <td>24.00</td>\n",
       "    </tr>\n",
       "  </tbody>\n",
       "</table>\n",
       "</div>"
      ],
      "text/plain": [
       "             Player  Projected Yearly Salary  Actual Yearly Salary\n",
       "0      LeBron James                    52.10                 30.96\n",
       "1       Mike Conley                    13.96                 30.52\n",
       "2        Al Horford                    20.94                 28.33\n",
       "3     DeMar DeRozan                    13.14                 27.50\n",
       "4      Kevin Durant                    45.42                 27.14\n",
       "5      Bradley Beal                    17.94                 25.43\n",
       "6    Andre Drummond                    21.88                 25.43\n",
       "7     Dirk Nowitzki                     1.82                 25.00\n",
       "8  Hassan Whiteside                    16.12                 24.60\n",
       "9     Nicolas Batum                    22.00                 24.00"
      ]
     },
     "execution_count": 188,
     "metadata": {},
     "output_type": "execute_result"
    }
   ],
   "source": [
    "projections = pandas.read_csv('projections.csv')\n",
    "projections"
   ]
  },
  {
   "cell_type": "code",
   "execution_count": 189,
   "metadata": {},
   "outputs": [
    {
     "data": {
      "text/plain": [
       "<matplotlib.axes._subplots.AxesSubplot at 0x7f8877ca1668>"
      ]
     },
     "execution_count": 189,
     "metadata": {},
     "output_type": "execute_result"
    },
    {
     "data": {
      "image/png": "[encoded data removed]",
      "text/plain": [
       "<Figure size 432x288 with 1 Axes>"
      ]
     },
     "metadata": {
      "needs_background": "light"
     },
     "output_type": "display_data"
    }
   ],
   "source": [
    "projections.plot.scatter(1, 2)"
   ]
  },
  {
   "cell_type": "code",
   "execution_count": null,
   "metadata": {},
   "outputs": [],
   "source": []
  }
 ],
 "metadata": {
  "kernelspec": {
   "display_name": "Python 3",
   "language": "python",
   "name": "python3"
  },
  "language_info": {
   "codemirror_mode": {
    "name": "ipython",
    "version": 3
   },
   "file_extension": ".py",
   "mimetype": "text/x-python",
   "name": "python",
   "nbconvert_exporter": "python",
   "pygments_lexer": "ipython3",
   "version": "3.6.8"
  }
 },
 "nbformat": 4,
 "nbformat_minor": 2
}
